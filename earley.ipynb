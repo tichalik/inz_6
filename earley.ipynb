{
 "cells": [
  {
   "cell_type": "code",
   "execution_count": 136,
   "id": "0c57a76e-4d26-4c5f-a335-acb734d1ea5a",
   "metadata": {},
   "outputs": [],
   "source": [
    "\n",
    "def save_file(filename, txt):\n",
    "    f = open(filename, \"w\")\n",
    "    f.write(txt)\n",
    "    f.close()"
   ]
  },
  {
   "cell_type": "code",
   "execution_count": 144,
   "id": "ab2e84f2-5e5b-46df-808d-4aa6c68c0a60",
   "metadata": {
    "slideshow": {
     "slide_type": "-"
    }
   },
   "outputs": [],
   "source": [
    "\n",
    "class SPPF:\n",
    "    def __init__(self, tag=\"\", children=None):\n",
    "        self.tag = tag\n",
    "        self.visited = False\n",
    "        self.children = children if children is not None else []\n",
    "        \n",
    "    def to_dict(self):\n",
    "        res = {}\n",
    "        res[\"tag\"] = self.tag\n",
    "        res[\"children\"] = [ [ y.to_dict() for y in x] for x in self.children ]\n",
    "        return res\n",
    "\n",
    "class State:\n",
    "    def __init__(self):\n",
    "        self.LHS = \"\"\n",
    "        self.RHS = []\n",
    "        self.pos = -1; # 0 means the beginning\n",
    "        self.origin = 0\n",
    "        self.SPPF = SPPF()\n",
    "\n",
    "    #debug only\n",
    "    def str(self):\n",
    "        res = self.LHS + \" -> \"\n",
    "        for i, x in enumerate(self.RHS):\n",
    "            if i == self.pos:\n",
    "                res += \". \"\n",
    "            res  += x + \" \"\n",
    "        if \".\" not in res:\n",
    "            res += \". \"\n",
    "        res += \"| \" + str(self.origin)\n",
    "        return res\n",
    "\n",
    "    def __eq__(self, other):\n",
    "        return self.LHS == other.LHS and self.RHS == other.RHS and self.pos == other.pos and self.origin == other.origin"
   ]
  },
  {
   "cell_type": "code",
   "execution_count": 145,
   "id": "56a915ec-a739-4ec3-831c-97b49091c9de",
   "metadata": {},
   "outputs": [],
   "source": [
    "def read_rules(string):\n",
    "    res = {}\n",
    "    for rule in string.split(\"\\n\"):\n",
    "        head, body = rule.split(\"->\")\n",
    "        head = head.strip()\n",
    "        body = [ x.strip() for x in body]\n",
    "        body = [ x for x in body if x != \"\"]\n",
    "        if head not in res:\n",
    "            res[head] = []\n",
    "        res[head].append(body)\n",
    "    return res"
   ]
  },
  {
   "cell_type": "code",
   "execution_count": 146,
   "id": "606ca01d-6c52-4c41-bd46-06d2983a1878",
   "metadata": {},
   "outputs": [],
   "source": [
    "def all_combs_of_2(list1, list2):\n",
    "    #list1 is a list of lists, list2 is just list\n",
    "    res = []\n",
    "    for x in list1:\n",
    "        for y in list2:\n",
    "            res.append( x + [y])\n",
    "    return res\n",
    "    \n",
    "def all_combs(lists):\n",
    "    #function that takes a list L of lists l0,l1,l2... and returns of combination of their elements\n",
    "    res = [ [x] for x in lists[0]]\n",
    "    for x in lists[1:]:\n",
    "        res = all_combs_of_2(res, x)\n",
    "    return res\n",
    "\n",
    "def unpack(tree):\n",
    "    res = []\n",
    "    if len(tree.children) == 0:\n",
    "        res = [tree.tag]\n",
    "    for alt in tree.children:\n",
    "        children = [ unpack(child) for child in alt] #children is a list of lists\n",
    "        combinations = all_combs(children)\n",
    "        for x in combinations:\n",
    "            res.append (tree.tag + \"[\"+ \" \".join(x) + \"]\")\n",
    "    return res\n",
    "        "
   ]
  },
  {
   "cell_type": "code",
   "execution_count": 147,
   "id": "ac8e7dbf-8119-4af7-bf5c-b2179192d2b2",
   "metadata": {},
   "outputs": [],
   "source": [
    "import copy\n",
    "class Parser:\n",
    "    def __init__(self):\n",
    "        self.sets = []\n",
    "\n",
    "    def _debug(self, i):\n",
    "            #debugging \n",
    "            print(\"-\" * 30, i, \"-\"*30)\n",
    "            for s in self.sets[i]:\n",
    "                print(s.str())\n",
    "                \n",
    "    def parse(self, word, rules, head):\n",
    "        self.sets = [ [] for x in range(len(word)+1) ]\n",
    "        self.leaves = [SPPF(i) for i in word]\n",
    "        #add the first state\n",
    "        for RHS in rules[head]:\n",
    "            state = State()\n",
    "            state.LHS = head\n",
    "            state.RHS = RHS\n",
    "            state.pos = 0\n",
    "            state.origin = 0\n",
    "            state.SPPF.tag = head\n",
    "            self.sets[0].append(state)\n",
    "\n",
    "        \n",
    "        for i in range(len(word)):\n",
    "             \n",
    "            j = 0\n",
    "            while j < len(self.sets[i]):\n",
    "                state = self.sets[i][j]\n",
    "                if state.pos != len(state.RHS):\n",
    "                    if state.RHS[state.pos] == word[i]:\n",
    "                        self.scanner(state, i)\n",
    "                    else:\n",
    "                        self.predict(rules, state, i)\n",
    "                else:\n",
    "                    self.complete(state, i)\n",
    "                j += 1\n",
    "            \n",
    "        for s in self.sets[i+1]:\n",
    "            if s.pos == len(s.RHS):\n",
    "                self.complete(s,i+1)\n",
    "            else:\n",
    "                self.predict(rules, s, i+1)\n",
    "\n",
    "        res = []\n",
    "        self.roots = []\n",
    "        for s in self.sets[i+1]:\n",
    "            if s.LHS == head and s.pos == len(s.RHS) and s.origin == 0:\n",
    "                res.append(s)\n",
    "                self.roots.append(s.SPPF)\n",
    "\n",
    "        return res\n",
    "            \n",
    "    def scanner(self, state, i):\n",
    "        _state = copy.deepcopy(state)\n",
    "        _state.pos += 1\n",
    "        leaf = self.leaves[i]\n",
    "        if len(_state.SPPF.children) == 0:\n",
    "            _state.SPPF.children.append([leaf])\n",
    "        else:\n",
    "            for child in _state.SPPF.children:\n",
    "                child.append(leaf)\n",
    "        \n",
    "        if _state not in self.sets[i+1]:\n",
    "            self.sets[i+1].append(_state)\n",
    "\n",
    "    def predict(self, rules, state, i):\n",
    "        next_nterm = state.RHS[state.pos]\n",
    "        for head, RHSs in rules.items():\n",
    "            if head == next_nterm:\n",
    "                for RHS in RHSs:\n",
    "                    _state = State()\n",
    "                    _state.LHS = head\n",
    "                    _state.RHS = RHS\n",
    "                    _state.pos = 0\n",
    "                    _state.origin = i\n",
    "                    #or should we keep the old sppf?\n",
    "                    _state.SPPF = SPPF(head, [])\n",
    "                    if _state not in self.sets[i]:\n",
    "                        self.sets[i].append(_state)\n",
    "                        #no need to call for predict recurently, the new state will be noticed and predicted in the main loop\n",
    "\n",
    "    def complete(self, state, i):\n",
    "        for s in self.sets[state.origin]:\n",
    "            if s.pos < len(s.RHS) and s.RHS[s.pos] == state.LHS:\n",
    "                _state = copy.deepcopy(s)\n",
    "                _state.pos += 1\n",
    "\n",
    "                \n",
    "                \n",
    "                leaf = state.SPPF\n",
    "                if len(_state.SPPF.children) == 0:\n",
    "                    _state.SPPF.children.append([leaf])\n",
    "                else:\n",
    "                    for child in _state.SPPF.children:\n",
    "                        child.append(leaf)\n",
    "\n",
    "                if _state not in self.sets[i]:\n",
    "                    self.sets[i].append(_state)\n",
    "                else:\n",
    "                    #we just add the alternative children\n",
    "                    #print(\"the evil state is ccaused by: \", state.str())\n",
    "                    pos = self.sets[i].index(_state)\n",
    "                    self.sets[i][pos].SPPF.children.extend(_state.SPPF.children)\n",
    "                \n",
    "        "
   ]
  },
  {
   "cell_type": "code",
   "execution_count": 148,
   "id": "5977b9c9",
   "metadata": {},
   "outputs": [],
   "source": [
    "def read_sppf(parser):\n",
    "    sppfs = {}\n",
    "    trans = {}\n",
    "    \n",
    "    def normalize(node):\n",
    "        node = id(node)\n",
    "        if node not in trans:\n",
    "            trans[node] = len(trans)\n",
    "        return trans[node]\n",
    "    \n",
    "    leaves = [(l.tag, normalize(l)) for l in parser.leaves]\n",
    "    \n",
    "    \n",
    "    for s in parser.sets:\n",
    "        for stat in s:\n",
    "            \n",
    "            _id = normalize(stat.SPPF)\n",
    "            \n",
    "            tab1 = []\n",
    "            \n",
    "            for alt in stat.SPPF.children:\n",
    "                tab = []\n",
    "                for child in alt:\n",
    "                    tab.append(normalize(child))\n",
    "                \n",
    "                tab1.append(tab)\n",
    "            \n",
    "            sppfs[_id] = (stat.SPPF.tag, tab1)\n",
    "    \n",
    "    roots = [ normalize(x) for x in parser.roots]\n",
    "    \n",
    "    for k,v in sppfs.items():\n",
    "        print(k, v)\n",
    "    print(\"leaves: \",leaves)\n",
    "    print(\"roots: \", roots)"
   ]
  },
  {
   "cell_type": "code",
   "execution_count": 151,
   "id": "54d54419",
   "metadata": {},
   "outputs": [],
   "source": [
    "def test(rules_str, head, input):\n",
    "    rules = read_rules(rules_str)\n",
    "    p = Parser()\n",
    "    res = p.parse(input, rules, head)\n",
    "    \n",
    "    read_sppf(p)\n",
    "    \n",
    "    res = [unpack(x.SPPF) for x in res][0]\n",
    "    print (res)"
   ]
  },
  {
   "cell_type": "code",
   "execution_count": 152,
   "id": "6d17c74c-e386-4cbd-b7fc-d2847868eb40",
   "metadata": {
    "scrolled": false
   },
   "outputs": [
    {
     "name": "stdout",
     "output_type": "stream",
     "text": [
      "3 ('S', [])\n",
      "4 ('S', [])\n",
      "5 ('S', [[0]])\n",
      "6 ('S', [[5]])\n",
      "7 ('S', [])\n",
      "8 ('S', [])\n",
      "9 ('S', [[1]])\n",
      "10 ('S', [[11, 9]])\n",
      "12 ('S', [[9]])\n",
      "13 ('S', [[10]])\n",
      "14 ('S', [])\n",
      "15 ('S', [])\n",
      "16 ('S', [[2]])\n",
      "17 ('S', [[18, 16]])\n",
      "19 ('S', [[20, 16], [21, 17]])\n",
      "22 ('S', [[16]])\n",
      "23 ('S', [[17]])\n",
      "24 ('S', [[19]])\n",
      "25 ('S', [])\n",
      "26 ('S', [])\n",
      "leaves:  [('b', 0), ('b', 1), ('b', 2)]\n",
      "roots:  [19]\n",
      "['S[S[S[b] S[b]] S[b]]', 'S[S[b] S[S[b] S[b]]]']\n"
     ]
    }
   ],
   "source": [
    "rules = \"\"\" S -> S S \n",
    "S -> b\"\"\"\n",
    "test(rules, \"S\", [\"b\",\"b\",\"b\"])"
   ]
  },
  {
   "cell_type": "code",
   "execution_count": 153,
   "id": "7d546727-cb36-493f-a7e7-1a2feab179fa",
   "metadata": {},
   "outputs": [
    {
     "name": "stdout",
     "output_type": "stream",
     "text": [
      "5 ('P', [])\n",
      "6 ('S', [])\n",
      "7 ('S', [])\n",
      "8 ('M', [])\n",
      "9 ('M', [])\n",
      "10 ('T', [])\n",
      "11 ('T', [[0]])\n",
      "12 ('M', [[11]])\n",
      "13 ('S', [[12]])\n",
      "14 ('M', [[12]])\n",
      "15 ('P', [[13]])\n",
      "16 ('S', [[13]])\n",
      "17 ('S', [[18, 1]])\n",
      "19 ('M', [])\n",
      "20 ('M', [])\n",
      "21 ('T', [])\n",
      "22 ('T', [[2]])\n",
      "23 ('M', [[22]])\n",
      "24 ('S', [[25, 26, 23]])\n",
      "27 ('M', [[23]])\n",
      "28 ('P', [[24]])\n",
      "29 ('S', [[24]])\n",
      "30 ('M', [[31, 3]])\n",
      "32 ('T', [])\n",
      "33 ('T', [[4]])\n",
      "34 ('M', [[35, 36, 33]])\n",
      "37 ('S', [[38, 39, 34]])\n",
      "40 ('M', [[34]])\n",
      "41 ('P', [[37]])\n",
      "42 ('S', [[37]])\n",
      "leaves:  [('x', 0), ('+', 1), ('x', 2), ('*', 3), ('x', 4)]\n",
      "roots:  [41]\n",
      "['P[S[S[M[T[x]]] + M[M[T[x]] * T[x]]]]']\n"
     ]
    }
   ],
   "source": [
    "input = [\"x\", \"+\", \"x\", \"*\", \"x\"]\n",
    "rules = \"\"\" P -> S\n",
    "S -> S + M\n",
    "S -> M\n",
    "M -> M * T\n",
    "M -> T\n",
    "T -> x \"\"\"\n",
    "test(rules, \"P\", input)"
   ]
  },
  {
   "cell_type": "code",
   "execution_count": 154,
   "id": "793a13d0-9fa1-4035-8fe1-8878465185f9",
   "metadata": {},
   "outputs": [
    {
     "name": "stdout",
     "output_type": "stream",
     "text": [
      "4 ('S', [])\n",
      "5 ('S', [])\n",
      "6 ('S', [[0]])\n",
      "7 ('S', [[0]])\n",
      "8 ('S', [])\n",
      "9 ('S', [])\n",
      "10 ('S', [[1]])\n",
      "11 ('S', [[1]])\n",
      "12 ('S', [])\n",
      "13 ('S', [])\n",
      "14 ('S', [[15, 11]])\n",
      "16 ('S', [[2]])\n",
      "17 ('S', [[2]])\n",
      "18 ('S', [])\n",
      "19 ('S', [])\n",
      "20 ('S', [[21, 17]])\n",
      "22 ('S', [[23, 20]])\n",
      "24 ('S', [[3]])\n",
      "25 ('S', [[3]])\n",
      "26 ('S', [])\n",
      "27 ('S', [])\n",
      "28 ('S', [[29, 25]])\n",
      "30 ('S', [[31, 28]])\n",
      "32 ('S', [[33, 30]])\n",
      "leaves:  [('a', 0), ('a', 1), ('a', 2), ('a', 3)]\n",
      "roots:  [32]\n",
      "['S[a S[a S[a S[a]]]]']\n"
     ]
    }
   ],
   "source": [
    "rules = \"\"\" S -> a S\n",
    "S -> a \"\"\"\n",
    "input = [\"a\",\"a\",\"a\",\"a\"]\n",
    "test(rules, \"S\", input)"
   ]
  },
  {
   "cell_type": "code",
   "execution_count": 155,
   "id": "a9ad34e5-e17e-4d8c-990e-9bc35d1e4a2f",
   "metadata": {},
   "outputs": [
    {
     "name": "stdout",
     "output_type": "stream",
     "text": [
      "4 ('S', [])\n",
      "5 ('S', [])\n",
      "6 ('S', [[0]])\n",
      "7 ('S', [[6]])\n",
      "8 ('S', [[9, 1]])\n",
      "10 ('S', [[8]])\n",
      "11 ('S', [[12, 2]])\n",
      "13 ('S', [[11]])\n",
      "14 ('S', [[15, 3]])\n",
      "16 ('S', [[14]])\n",
      "leaves:  [('a', 0), ('a', 1), ('a', 2), ('a', 3)]\n",
      "roots:  [14]\n",
      "['S[S[S[S[a] a] a] a]']\n"
     ]
    }
   ],
   "source": [
    "rules = \"\"\" S ->  S a\n",
    "S -> a \"\"\"\n",
    "input = [\"a\",\"a\",\"a\",\"a\"]\n",
    "test(rules, \"S\", input)"
   ]
  },
  {
   "cell_type": "code",
   "execution_count": 156,
   "id": "f468b328-a9f4-4ed8-93ad-092730de5194",
   "metadata": {},
   "outputs": [
    {
     "name": "stdout",
     "output_type": "stream",
     "text": [
      "4 ('S', [])\n",
      "5 ('S', [])\n",
      "6 ('A', [])\n",
      "7 ('A', [])\n",
      "8 ('A', [[0]])\n",
      "9 ('A', [[0]])\n",
      "10 ('S', [[8]])\n",
      "11 ('S', [[10]])\n",
      "12 ('A', [])\n",
      "13 ('A', [])\n",
      "14 ('A', [[15, 1]])\n",
      "16 ('A', [[1]])\n",
      "17 ('A', [[1]])\n",
      "18 ('S', [[14]])\n",
      "19 ('S', [[20, 16]])\n",
      "21 ('S', [[18], [19]])\n",
      "22 ('A', [])\n",
      "23 ('A', [])\n",
      "24 ('A', [[25, 2]])\n",
      "26 ('A', [[2]])\n",
      "27 ('A', [[2]])\n",
      "28 ('S', [[29, 24], [30, 26], [31, 26]])\n",
      "32 ('S', [[28]])\n",
      "33 ('A', [])\n",
      "34 ('A', [])\n",
      "35 ('A', [[36, 3]])\n",
      "37 ('A', [[3]])\n",
      "38 ('A', [[3]])\n",
      "39 ('S', [[40, 35], [41, 35], [42, 37]])\n",
      "43 ('S', [[39]])\n",
      "44 ('A', [])\n",
      "45 ('A', [])\n",
      "leaves:  [('a', 0), ('a', 1), ('a', 2), ('a', 3)]\n",
      "roots:  [39]\n",
      "['S[S[A[a a]] A[a a]]', 'S[S[S[A[a]] A[a]] A[a a]]', 'S[S[S[A[a]] A[a a]] A[a]]', 'S[S[S[A[a a]] A[a]] A[a]]', 'S[S[S[S[A[a]] A[a]] A[a]] A[a]]']\n"
     ]
    }
   ],
   "source": [
    "rules = \"\"\" S ->  S A\n",
    "S -> A\n",
    "A -> a \n",
    "A -> a a\"\"\"\n",
    "input = [\"a\",\"a\",\"a\",\"a\"]\n",
    "test(rules, \"S\", input)"
   ]
  },
  {
   "cell_type": "code",
   "execution_count": 157,
   "id": "360d33cf-f2ba-4504-b3d1-3e551cb38267",
   "metadata": {},
   "outputs": [
    {
     "name": "stdout",
     "output_type": "stream",
     "text": [
      "4 ('S', [])\n",
      "5 ('S', [])\n",
      "6 ('S', [[0]])\n",
      "7 ('S', [[0]])\n",
      "8 ('S', [])\n",
      "9 ('S', [])\n",
      "10 ('S', [[1]])\n",
      "11 ('S', [[1]])\n",
      "12 ('S', [])\n",
      "13 ('S', [])\n",
      "14 ('S', [[15, 11]])\n",
      "16 ('B', [])\n",
      "17 ('B', [])\n",
      "18 ('S', [[19, 20, 17]])\n",
      "21 ('S', [[22, 23, 24, 17]])\n",
      "25 ('S', [[2]])\n",
      "26 ('S', [[2]])\n",
      "27 ('S', [])\n",
      "28 ('S', [])\n",
      "29 ('S', [[30, 26]])\n",
      "31 ('B', [])\n",
      "32 ('B', [])\n",
      "33 ('S', [[34, 35, 32]])\n",
      "36 ('S', [[37, 38, 39, 32]])\n",
      "40 ('S', [[41, 36]])\n",
      "42 ('B', [[3]])\n",
      "43 ('S', [[44, 45, 42]])\n",
      "46 ('S', [[47, 48, 49, 42], [50, 51, 52, 53]])\n",
      "54 ('S', [[55, 56, 42], [57, 58, 53]])\n",
      "59 ('B', [])\n",
      "53 ('B', [])\n",
      "60 ('S', [[61, 46]])\n",
      "62 ('S', [[63, 64, 65, 53]])\n",
      "leaves:  [('a', 0), ('a', 1), ('a', 2), ('b', 3)]\n",
      "roots:  [62]\n",
      "['S[a S[a S[a] B B] B[b] B]']\n"
     ]
    }
   ],
   "source": [
    "rules = \"\"\" S ->  a S B B\n",
    "S -> a\n",
    "B -> b\n",
    "B -> \"\"\"\n",
    "input = [\"a\",\"a\",\"a\",\"b\"]\n",
    "test(rules, \"S\", input)"
   ]
  },
  {
   "cell_type": "code",
   "execution_count": 97,
   "id": "83951ec5-d6e9-4e07-b265-dfd5c2bb00e6",
   "metadata": {},
   "outputs": [
    {
     "name": "stdout",
     "output_type": "stream",
     "text": [
      "nodes:  {1: [], 2: [], 3: [], 4: [], 5: [[0]], 6: [[5], [7]], 8: [[6]], 7: [[6]]}\n",
      "leaves:  [0]\n"
     ]
    }
   ],
   "source": [
    "rules = \"\"\"S -> A\n",
    "A -> B\n",
    "B -> A\n",
    "B -> a \"\"\"\n",
    "input = [\"a\"]\n",
    "test(rules, \"S\", input)"
   ]
  },
  {
   "cell_type": "code",
   "execution_count": 30,
   "id": "dda7949a",
   "metadata": {},
   "outputs": [
    {
     "data": {
      "text/plain": [
       "'[\"[\\'S[S[S[b] S[b]] S[b]]\\', \\'S[S[b] S[S[b] S[b]]]\\']\", \"[\\'P[S[S[M[T[x]]] + M[M[T[x]] * T[x]]]]\\']\", \"[\\'S[a S[a S[a S[a]]]]\\']\", \"[\\'S[S[S[S[a] a] a] a]\\']\", \"[\\'S[S[A[a a]] A[a a]]\\', \\'S[S[S[A[a]] A[a]] A[a a]]\\', \\'S[S[S[A[a]] A[a a]] A[a]]\\', \\'S[S[S[A[a a]] A[a]] A[a]]\\', \\'S[S[S[S[A[a]] A[a]] A[a]] A[a]]\\']\", \"[\\'S[a S[a S[a] B B] B[b] B]\\']\"]'"
      ]
     },
     "execution_count": 30,
     "metadata": {},
     "output_type": "execute_result"
    }
   ],
   "source": [
    "str(res1)"
   ]
  },
  {
   "cell_type": "code",
   "execution_count": 31,
   "id": "ab42ed55",
   "metadata": {},
   "outputs": [
    {
     "data": {
      "text/plain": [
       "True"
      ]
     },
     "execution_count": 31,
     "metadata": {},
     "output_type": "execute_result"
    }
   ],
   "source": [
    "str(res2) ==str(res1)"
   ]
  },
  {
   "cell_type": "code",
   "execution_count": 58,
   "id": "a40f8b9f-3766-45ee-9cd1-da514045afb4",
   "metadata": {},
   "outputs": [
    {
     "data": {
      "text/plain": [
       "[[<__main__.SPPF at 0x266c0d62e10>], [<__main__.SPPF at 0x266bf078650>]]"
      ]
     },
     "execution_count": 58,
     "metadata": {},
     "output_type": "execute_result"
    }
   ],
   "source": [
    "res[0].SPPF.children[0][0].children[1][0].children[0][0].children"
   ]
  },
  {
   "cell_type": "code",
   "execution_count": null,
   "id": "7d5620ea-ad4a-4099-8efb-e9afa93414fd",
   "metadata": {},
   "outputs": [],
   "source": []
  }
 ],
 "metadata": {
  "kernelspec": {
   "display_name": "Python 3 (ipykernel)",
   "language": "python",
   "name": "python3"
  },
  "language_info": {
   "codemirror_mode": {
    "name": "ipython",
    "version": 3
   },
   "file_extension": ".py",
   "mimetype": "text/x-python",
   "name": "python",
   "nbconvert_exporter": "python",
   "pygments_lexer": "ipython3",
   "version": "3.10.12"
  }
 },
 "nbformat": 4,
 "nbformat_minor": 5
}
